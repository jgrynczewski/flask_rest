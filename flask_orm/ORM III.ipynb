{
 "cells": [
  {
   "cell_type": "markdown",
   "id": "9a3ccb7a",
   "metadata": {},
   "source": [
    "# Flask SQLAlchemy - Instrukcje DML w relacjach"
   ]
  },
  {
   "cell_type": "markdown",
   "id": "aed61773",
   "metadata": {},
   "source": [
    "W bazach relacyjnych tabele mogą być powiązane ze sobą relacjami. W zależności od natury tego powiązania wyróżniamy kilka typów relacji. W Django ORM możemy wyróżnić trzy podstawowe typy relacji: jeden-do-jednego, jeden-do-wielu i wiele-do-wielu. Każda z tych relacji posiada w Django ORM swój odpowiednik w postaci pola modelu. I tak:\n",
    "* **OneToOneField** to pole odpowiadające relacji jeden do jednego\n",
    "* **ForeignKey** to pole odpowiadające relacji jeden do wielu\n",
    "* **ManyToManyField** to pole odpowiadające relacji wiele do wielu\n",
    "\n",
    "Omówmy je po kolei."
   ]
  },
  {
   "cell_type": "code",
   "execution_count": null,
   "id": "4617eb31",
   "metadata": {},
   "outputs": [],
   "source": [
    "# Setup\n",
    "from flask import Flask\n",
    "from flask_sqlalchemy import SQLAlchemy\n",
    "from sqlalchemy.orm import DeclarativeBase\n",
    "\n",
    "class Base(DeclarativeBase):\n",
    "  pass\n",
    "\n",
    "db = SQLAlchemy(model_class=Base)\n",
    "\n",
    "# create the app\n",
    "app = Flask(__name__)\n",
    "\n",
    "# configure the SQLite database, relative to the app instance folder\n",
    "app.config[\"SQLALCHEMY_DATABASE_URI\"] = \"sqlite:///db.sqlite\"\n",
    "\n",
    "# initialize the app with the extension\n",
    "db.init_app(app)\n",
    "\n",
    "app.app_context().push()"
   ]
  },
  {
   "cell_type": "markdown",
   "id": "0e19c62b",
   "metadata": {},
   "source": [
    "## OneToOneField"
   ]
  },
  {
   "cell_type": "markdown",
   "id": "0cd54b30",
   "metadata": {},
   "source": [
    "Relacja jeden do jednego występuje w przypadku kiedy rekord jednej tabeli może być powiązany z jednym i tylko jednym wpisem drugiej tabeli. Przykładem takiej relacji może być tabela stolica oraz tabela państwo. Warszawa jest stolicą tylko jednego państwa - Polski, Polska ma przypisaną tylko jedną stolicę - Warszawę.\n",
    "\"Mówimy Warszawa myślimy Polska, mówimy Polska myślimy Warszawa\". Relacja jest symetryczna dlatego nie ma znaczenia, w której z tabelek (stolica, czy państwo) umieścimy kolumnę dla tej relacji."
   ]
  },
  {
   "cell_type": "markdown",
   "id": "7afe0792",
   "metadata": {},
   "source": [
    "**Definicje modeli**\n",
    "\n",
    "W modelach mamy dwie klasy: Country i Capitol. Relacje OneToOneField umieściliśmy po stronie modelu Country. Atrybut przechowujący relację nazwaliśmy capitol.\n",
    "\n",
    "<code>class Country(models.Model):\n",
    "    name = models.CharField(max_length=64)\n",
    "    capitol = models.OneToOneField('Capitol', on_delete=models.CASCADE)\n",
    "</code>\n",
    "\n",
    "<code>class Capitol(models.Model):\n",
    "    name = models.CharField(max_length=64)\n",
    "</code>"
   ]
  },
  {
   "cell_type": "markdown",
   "id": "d35b5423",
   "metadata": {},
   "source": [
    "### C z CRUD"
   ]
  },
  {
   "cell_type": "code",
   "execution_count": null,
   "id": "711f0b5b-87e9-4ec5-9d0d-8577c7561d64",
   "metadata": {},
   "outputs": [],
   "source": [
    "from sqlalchemy import Integer, String\n",
    "from sqlalchemy.orm import Mapped, mapped_column\n",
    "from sqlalchemy import UniqueConstraint \n",
    "\n",
    "\n",
    "class Country(db.Model):\n",
    "    id: Mapped[int] = db.Column(db.Integer, primary_key=True)\n",
    "    name: Mapped[str] = db.Column(db.String(64), nullable=False)\n",
    "    capital_id: Mapped[int] = db.Column(db.Integer, db.ForeignKey('capital.id'), unique=True)\n",
    "    # capital_id: Mapped[int] = db.Column(db.Integer, db.ForeignKey('capital.id'), uselist=False)  # same effect\n",
    "    \n",
    "    def __repr__(self):\n",
    "        return f'<Country \"{self.name}\">'\n",
    "\n",
    "\n",
    "class Capital(db.Model):\n",
    "    id: Mapped[int] = db.Column(db.Integer, primary_key=True)\n",
    "    name: Mapped[str] = db.Column(db.String(64), nullable=False)\n",
    "\n",
    "    # `db.relationship` does not impact the structure of the database table; \n",
    "    # rather, it is solely intended for convenient referencing.\n",
    "    country: db.Mapped['Country'] = db.relationship(\"Country\", backref=\"capital\")\n",
    "    \n",
    "    def __repr__(self):\n",
    "        return f'<Capitol \"{self.name}\">'\n",
    "\n",
    "\n",
    "db.create_all()"
   ]
  },
  {
   "cell_type": "code",
   "execution_count": null,
   "id": "a245b89f",
   "metadata": {},
   "outputs": [],
   "source": [
    "# 1. Tworzymy wpis w tabeli Capital\n",
    "warsaw = Capital(name=\"Warsaw\")\n",
    "db.session.add(warsaw)\n",
    "db.session.commit()"
   ]
  },
  {
   "cell_type": "code",
   "execution_count": null,
   "id": "ca41b762",
   "metadata": {},
   "outputs": [],
   "source": [
    "# 2. Tworzymy wpis w tabeli Country\n",
    "poland = Country(name=\"Poland\")\n",
    "db.session.add(poland)\n",
    "db.session.commit()"
   ]
  },
  {
   "cell_type": "code",
   "execution_count": null,
   "id": "915d4444",
   "metadata": {},
   "outputs": [],
   "source": [
    "# Stworzyliśmy wpis do tabeli Country bez wartości w polu capital_id.\n",
    "\n",
    "# Spróbujmy z wartością\n",
    "paris = Capital(name=\"Paris\")\n",
    "france = Country(name=\"France\", capital_id=2)\n",
    "db.session.add_all([\n",
    "    paris,\n",
    "    france\n",
    "])\n",
    "db.session.commit()"
   ]
  },
  {
   "cell_type": "code",
   "execution_count": null,
   "id": "bbabe135-f71c-4f84-bf1e-22942d0d5478",
   "metadata": {},
   "outputs": [],
   "source": [
    "paris.country  # to byłoby niemożliwe, gdyby nie wprowadzenie db.relationship"
   ]
  },
  {
   "cell_type": "code",
   "execution_count": null,
   "id": "ac43d6b6-3e9f-419a-9823-8d5c7bf982da",
   "metadata": {},
   "outputs": [],
   "source": [
    "france.capital  # i to też"
   ]
  },
  {
   "cell_type": "code",
   "execution_count": null,
   "id": "26676c9e-3d18-4538-9ecc-06b6e505c4a4",
   "metadata": {},
   "outputs": [],
   "source": [
    "germany = Country(name=\"Germany\", capital_id=2)\n",
    "db.session.add(germany)\n",
    "db.session.commit()  # Integrity Error"
   ]
  },
  {
   "cell_type": "code",
   "execution_count": null,
   "id": "bc109c3f-ee6c-4112-ba3f-99a3220fd510",
   "metadata": {},
   "outputs": [],
   "source": [
    "# db.session.rollback()"
   ]
  },
  {
   "cell_type": "code",
   "execution_count": null,
   "id": "c284a816-926b-4767-b97e-989574a95635",
   "metadata": {},
   "outputs": [],
   "source": [
    "# Możemy też powiązanie stworzyć w ten sposób:\n",
    "rome = Capital(name=\"Rome\")\n",
    "italy = Country(name=\"Italy\", capital=rome)  # to byłoby niemożliwe bez db.relationship\n",
    "db.session.add_all([\n",
    "    rome,\n",
    "    italy\n",
    "])\n",
    "db.session.commit()"
   ]
  },
  {
   "cell_type": "code",
   "execution_count": null,
   "id": "a98d8472-a097-44d0-98c6-26b292d74f1d",
   "metadata": {},
   "outputs": [],
   "source": [
    "# lub tak\n",
    "madrit = Capital()\n",
    "madrit.name = \"Madrit\"\n",
    "\n",
    "spain = Country()\n",
    "spain.name = \"Spain\"\n",
    "spain.capital = madrit\n",
    "\n",
    "db.session.add_all([\n",
    "    madrit,\n",
    "    spain\n",
    "])\n",
    "db.session.commit()"
   ]
  },
  {
   "cell_type": "markdown",
   "id": "ad022d40",
   "metadata": {},
   "source": [
    "## ForeignKey"
   ]
  },
  {
   "cell_type": "markdown",
   "id": "cf42bd64",
   "metadata": {},
   "source": [
    "Relacja jeden do wielu jest najczęściej wykorzystywanym typem relacji. Występuje wtedy, kiedy wpis z jednej tabeli (tzw. tabeli rodzica) może być powiązany z wieloma wpisami z drugiej (tzw. tabeli dziecka), ale wpis z drugiej tabeli (tabeli dziecka) nie może być powiązany z wielom wpisami z pierwszej (tabeli rodzica). Innymi słowy rodzic może mieć wiele dzieci, ale dziecko może mieć tylko jednego rodzica. Przykładem takiej relacji może być tabela \"miasto\" oraz tabela \"państwo\". Gdańsk należy do Polski. Kraków należy do Polski. Mówiąc Gdańsk myślimy Polska (to strona relacja \"jeden\"). Podobnie mówiąc Kraków myślimy Polska. Ale już mówiąc Polska myślimy Gdańsk, Kraków, Wrocław, ... (to strona relacji \"wiele\"). \n",
    "\n",
    "Najprościej jest wyobrazić sobie relacje jeden-do-wielu jako strukturę hierarchiczną, czyli drzewo. Na górze mamy rodzica, a pod nim wiele dzieci. Tutaj Polska jest rodzicem, a Gdańsk, Kraków, Wrocław, ... dziećmi. To po której stronie umieścimy pole do przechowywania relacji zależy wyłącznie od nas. Zazwyczaj znacznie łatwiej myśli się o takiej relacji, kiedy pole umieści się po stronie dziecka (ponieważ dziecko ma tylko jednego rodzica). Czyli umieszczamy pole ForeignKey w modelu \"miasto\" i wpisy Gdańsk, Kraków, Wrocław posiadają referencje do wpisu Polska z modelu \"państwo\". \n",
    "\n",
    "Innym przykładem takiej relacji może być język programowania i framework. Jezyk programowania to np. Python. Framework to np. Django, Flask, Bottle. Rodzicem jest tu język programowania, dziećmi poszczególne frameworki (mówimy Python myślimy Django, Flask, Bottle... ale mówimy Django myślimy Python). Czyli pole z relacją najlepiej umieścić po stronie modelu Framework."
   ]
  },
  {
   "cell_type": "markdown",
   "id": "dcc919f9",
   "metadata": {},
   "source": [
    "**Definicje modeli**\n",
    "\n",
    "W modelach mamy dwie klasy: Language i Framework. Relacje ForignKey umieściliśmy po stronie modelu Framework (dziecko). Atrybut przechowujący relację nazwaliśmy language.\n",
    "\n",
    "<code>class Language(models.Model):\n",
    "    name = models.CharField(max_length=64)\n",
    "</code>\n",
    "<code>\n",
    "    def __str__(self):\n",
    "        return f\"{self.name}\"\n",
    "</code>\n",
    "\n",
    "<code>class Framework(models.Model):\n",
    "    name = models.CharField(max_length=64)\n",
    "    language = models.ForeignKey('Language', on_delete=models.CASCADE)\n",
    "</code>\n",
    "<code>\n",
    "    def __str__(self):\n",
    "        return f\"{self.name} ({self.language})\"\n",
    "</code>"
   ]
  },
  {
   "cell_type": "code",
   "execution_count": null,
   "id": "df5a6caf-90f1-45dc-9874-a968d515ea17",
   "metadata": {},
   "outputs": [],
   "source": [
    "from sqlalchemy import Integer, String\n",
    "from sqlalchemy.orm import Mapped, mapped_column\n",
    "\n",
    "\n",
    "class Language(db.Model):\n",
    "    id: Mapped[int] = db.Column(db.Integer, primary_key=True)\n",
    "    name: Mapped[str] = db.Column(db.String(64), nullable=False)\n",
    "    \n",
    "    # annotation change (list)\n",
    "    frameworks: db.Mapped[list['Framework']] = db.relationship(\"Framework\", backref=\"language\")\n",
    "    \n",
    "    def __repr__(self):\n",
    "        return f'<Language \"{self.name}\">'\n",
    "\n",
    "\n",
    "class Framework(db.Model):\n",
    "    id: Mapped[int] = db.Column(db.Integer, primary_key=True)\n",
    "    name: Mapped[str] = db.Column(db.String(64), nullable=False)\n",
    "    language_id: Mapped[int] = db.Column(db.Integer, db.ForeignKey('language.id'))\n",
    "\n",
    "    def __repr__(self):\n",
    "        return f'<Framework \"{self.name}\">'\n",
    "    \n",
    "\n",
    "db.create_all()"
   ]
  },
  {
   "cell_type": "markdown",
   "id": "519c5966",
   "metadata": {},
   "source": [
    "### C z CRUD"
   ]
  },
  {
   "cell_type": "markdown",
   "id": "8b383c05",
   "metadata": {},
   "source": [
    "Operacje \"C\" niczym się nie różnią od tych dla pola OneToOneField. W ramach utrwalenia"
   ]
  },
  {
   "cell_type": "code",
   "execution_count": null,
   "id": "debe9fc3",
   "metadata": {},
   "outputs": [],
   "source": [
    "# Metad I (instancja modelu)\n",
    "\n",
    "python = Language(name=\"python\")\n",
    "django = Framework(name=\"django\", language=python)\n",
    "flask = Framework(name=\"flask\", language=python)\n",
    "fastapi = Framework(name=\"fastapi\", language=python)\n",
    "\n",
    "db.session.add_all([\n",
    "    python,\n",
    "    django,\n",
    "    flask,\n",
    "    fastapi\n",
    "])\n",
    "db.session.commit()"
   ]
  },
  {
   "cell_type": "code",
   "execution_count": null,
   "id": "53ae3a95",
   "metadata": {},
   "outputs": [],
   "source": [
    "# Metad II (id instancji modelu)\n",
    "\n",
    "java = Language(name=\"java\")\n",
    "spring = Framework(name=\"spring\", language_id=java.id)\n",
    "\n",
    "db.session.add_all([\n",
    "    java,\n",
    "    spring\n",
    "])\n",
    "db.session.commit()"
   ]
  },
  {
   "cell_type": "markdown",
   "id": "922694d8",
   "metadata": {},
   "source": [
    "### R z CRUD"
   ]
  },
  {
   "cell_type": "markdown",
   "id": "6b2ac7fd",
   "metadata": {},
   "source": [
    "Na początek wyświetlmy wszystkie frameworki."
   ]
  },
  {
   "cell_type": "code",
   "execution_count": null,
   "id": "1c54d6f6",
   "metadata": {},
   "outputs": [],
   "source": [
    "Framework.query.all()"
   ]
  },
  {
   "cell_type": "code",
   "execution_count": null,
   "id": "15cd5858",
   "metadata": {},
   "outputs": [],
   "source": [
    "# A frameworki tylko dla konkretnego języka?\n",
    "# Klasyczny filtr po polu language.\n",
    "\n",
    "# 1. Pobieramy obiekt, po którym będziemy wyszukiwać.\n",
    "python = Language.query.filter_by(name='python').first()\n",
    "\n",
    "# 2. Wyszukujemy po pobranym obiekcie.\n",
    "frameworks = Framework.query.filter_by(language=python).all()\n",
    "print(frameworks)"
   ]
  },
  {
   "cell_type": "code",
   "execution_count": null,
   "id": "0f773499",
   "metadata": {},
   "outputs": [],
   "source": [
    "# wartością atrybutu reprezentującego relację jest obiekt\n",
    "django = Framework.query.filter_by(name='django').first()\n",
    "print(django.language)\n",
    "print(type(django.language))"
   ]
  },
  {
   "cell_type": "code",
   "execution_count": null,
   "id": "1e045ee7",
   "metadata": {},
   "outputs": [],
   "source": [
    "# Realizacja relacji odwrotnej w SQLAlchemy\n",
    "python = Language.query.filter_by(name='python').first()\n",
    "print(python.frameworks)"
   ]
  },
  {
   "cell_type": "code",
   "execution_count": null,
   "id": "6e6a9032-db80-4826-8615-5540363facdd",
   "metadata": {},
   "outputs": [],
   "source": [
    "python = Language.query.filter_by(name='python').first()\n",
    "print(python.frameworks)\n",
    "\n",
    "frameworks = Framework.query.filter(Framework.language==python, Framework.name.like(\"fl%\")).all()\n",
    "print(frameworks)"
   ]
  },
  {
   "cell_type": "markdown",
   "id": "8c5b9798",
   "metadata": {},
   "source": [
    "## ManyToMany"
   ]
  },
  {
   "cell_type": "markdown",
   "id": "a93f9b57",
   "metadata": {},
   "source": [
    "Ostatnia z omawianych relacji to relacja wiele-do-wielu. Dotyczy sytuacji kiedy wpisy z jednej tabeli mogą być powiązane z wielom wpisami z drugiej oraz wpisy z drugiej tabeli mogą być powiązane z wieloma wpisami z tabeli pierwszej. Przykładem takiej relacji może być tabela Aktor oraz tabela Film. Mówimy Al Pacino myślimy Scareface, Gorączka, Ojciec Chrzestny... Mówimy Ojciec Chrzestny myślimy Al Pacino, Robert DeNiro, Marlon Brando ... Relację możemy umieścić w dowolnej z powiązanych tabeli.\n",
    "Jest to najbardziej złożony typ relacji, ponieważ zgodnie z zasadami normalizacji realizacja relacji wiele-do-wielu wymaga wprowadzenia tabeli pośredniej.\n",
    "\n",
    "**Definicje modeli**\n",
    "\n",
    "W modelach mamy dwie klasy: Actor i Movie. Relacje ManyToMany umieszczamy po stronie Movie (ale równie dobrze moglibyśmy umieścić po stronie Actor). Atrybut przechowujący relację nazwaliśmy actors (zwróć uwagę na to, że tym razem w nazwie pola użyliśmy liczby mnogiej).\n",
    "\n",
    "<code>class Actor(models.Model):\n",
    "    name = models.CharField(max_length=64)\n",
    "</code>\n",
    "<code>\n",
    "    def __str__(self):\n",
    "        return f\"{self.name}\"\n",
    "</code>\n",
    "\n",
    "<code>class Movie(models.Model):\n",
    "    title = models.CharField(max_length=128)\n",
    "    actors = models.ManyToManyField('Actor')\n",
    "</code>\n",
    "<code>\n",
    "    def __str__(self):\n",
    "        return f\"{self.title}\"\n",
    "</code>\n"
   ]
  },
  {
   "cell_type": "code",
   "execution_count": null,
   "id": "220c5b55-0e45-4b08-8592-524fb8759329",
   "metadata": {},
   "outputs": [],
   "source": [
    "# It is strongly recommended to use a table instead of a model for many-to-many relationship (so called helper table).\n",
    "actor_movie = db.Table('actor_movie',\n",
    "    db.Column('actor_id', db.Integer, db.ForeignKey('actor.id'), primary_key=True),\n",
    "    db.Column('movie_id', db.Integer, db.ForeignKey('movie.id'), primary_key=True)\n",
    ")\n",
    "\n",
    "class Actor(db.Model):    \n",
    "    id: Mapped[int] = db.Column(db.Integer, primary_key=True)\n",
    "    name: Mapped[str] = db.Column(db.String(128), nullable=False)\n",
    "    movies: db.Mapped[list['Movie']] = db.relationship(\"Movie\", secondary=actor_movie, backref=\"actors\")  # plurals    \n",
    "    \n",
    "    def __repr__(self):\n",
    "        return f'<Actor \"{self.name}\">'\n",
    "\n",
    "class Movie(db.Model):\n",
    "    id = db.Column(db.Integer, primary_key=True)\n",
    "    name: Mapped[str] = db.Column(db.String(128), nullable=False)\n",
    "    \n",
    "    def __repr__(self):\n",
    "        return f'<Movie \"{self.name}\">'\n",
    "\n",
    "\n",
    "db.create_all()"
   ]
  },
  {
   "cell_type": "code",
   "execution_count": null,
   "id": "b0b2a060",
   "metadata": {},
   "outputs": [],
   "source": [
    "movie_1 = Movie(name='The Godfather')\n",
    "movie_2 = Movie(name='The Heat')\n",
    "movie_3 = Movie(name='The Irishman')\n",
    "movie_4 = Movie(name='Taxi Driver')\n",
    "movie_5 = Movie(name='Matrix')\n",
    "\n",
    "actor_1 = Actor(name='Al Pacino')\n",
    "actor_2 = Actor(name='Robert De Niro')\n",
    "actor_3 = Actor(name='Keanu Reeves')\n",
    "\n",
    "db.session.add_all([\n",
    "    movie_1,\n",
    "    movie_2,\n",
    "    movie_3,\n",
    "    movie_4,\n",
    "    movie_5,\n",
    "    actor_1,\n",
    "    actor_2,\n",
    "    actor_3\n",
    "])\n",
    "db.session.commit()"
   ]
  },
  {
   "cell_type": "markdown",
   "id": "00675b7e",
   "metadata": {},
   "source": [
    "Patrzymy do bazy i widzimy wpisy w tabeli movie i wpisy w tabeli actor, ale w tabeli movie_actors mamy 0 wpisów. W jaki sposób powiązać teraz wpisy z tabeli movie z wpisami z tabeli actor? "
   ]
  },
  {
   "cell_type": "code",
   "execution_count": null,
   "id": "cb85a099",
   "metadata": {},
   "outputs": [],
   "source": [
    "# Sposób I\n",
    "from sqlalchemy import insert\n",
    "\n",
    "stmt = (\n",
    "    insert(actor_movie).\n",
    "    values(actor_id=actor_1.id, movie_id=movie_1.id)\n",
    ")\n",
    "db.session.execute(stmt)\n",
    "db.session.commit()"
   ]
  },
  {
   "cell_type": "code",
   "execution_count": null,
   "id": "c93b5c3f-9f85-493d-a0e5-f253f64f06f4",
   "metadata": {},
   "outputs": [],
   "source": [
    "print(actor_1.movies)"
   ]
  },
  {
   "cell_type": "code",
   "execution_count": null,
   "id": "4b29683e-3946-4f83-bae4-851740eeff25",
   "metadata": {},
   "outputs": [],
   "source": [
    "print(movie_1.actors)"
   ]
  },
  {
   "cell_type": "code",
   "execution_count": null,
   "id": "441003ca",
   "metadata": {},
   "outputs": [],
   "source": [
    "# Sposób II\n",
    "actor_2.movies.append(movie_1)\n",
    "db.session.commit()"
   ]
  },
  {
   "cell_type": "code",
   "execution_count": null,
   "id": "60f3bdcb-1828-4b36-aeab-e26d35b2cba6",
   "metadata": {},
   "outputs": [],
   "source": [
    "print(actor_2.movies)"
   ]
  },
  {
   "cell_type": "code",
   "execution_count": null,
   "id": "1f5689f9-8d77-4d3a-9c83-4f6caebf2b74",
   "metadata": {},
   "outputs": [],
   "source": [
    "print(movie_1.actors)"
   ]
  },
  {
   "cell_type": "code",
   "execution_count": null,
   "id": "8a92b4a8",
   "metadata": {},
   "outputs": [],
   "source": [
    "# Sposób III\n",
    "movie_5.actors.append(actor_3)\n",
    "db.session.commit()"
   ]
  },
  {
   "cell_type": "code",
   "execution_count": null,
   "id": "9505aab1-73fd-45a2-8eff-c4253039c689",
   "metadata": {},
   "outputs": [],
   "source": [
    "print(movie_5.actors)"
   ]
  },
  {
   "cell_type": "markdown",
   "id": "ef384324-7f64-4d99-a22e-c9f54ccef449",
   "metadata": {},
   "source": [
    "Podsumowując"
   ]
  },
  {
   "cell_type": "code",
   "execution_count": null,
   "id": "75031a76",
   "metadata": {},
   "outputs": [],
   "source": [
    "# Wszystkie filmy w których zagrał Al Pacino\n",
    "actor_1.movies"
   ]
  },
  {
   "cell_type": "code",
   "execution_count": null,
   "id": "0a935c4b",
   "metadata": {},
   "outputs": [],
   "source": [
    "# Wszyscy aktorzy, którzy zagrali w 'The Godfather'\n",
    "movie_1.actors"
   ]
  },
  {
   "cell_type": "markdown",
   "id": "b13202a8-8732-422d-ad26-d7d86d9d49d2",
   "metadata": {},
   "source": [
    "### Usuwanie powiązań"
   ]
  },
  {
   "cell_type": "code",
   "execution_count": null,
   "id": "285d99df-dd11-4c59-a1de-7571b282c44f",
   "metadata": {},
   "outputs": [],
   "source": [
    "print(movie_1.actors)"
   ]
  },
  {
   "cell_type": "code",
   "execution_count": null,
   "id": "01978f48-29c7-4cb7-80b7-87e3aef88abd",
   "metadata": {},
   "outputs": [],
   "source": [
    "movie_1.actors.remove(actor_2)\n",
    "db.session.commit()"
   ]
  },
  {
   "cell_type": "code",
   "execution_count": null,
   "id": "591d8f5e-db08-4d6f-a7e0-25ded5710add",
   "metadata": {},
   "outputs": [],
   "source": [
    "print(movie_1.actors)"
   ]
  },
  {
   "cell_type": "markdown",
   "id": "c304ab77-9b85-44f9-815e-59416adcd460",
   "metadata": {},
   "source": [
    "## Zlączenia (join)"
   ]
  },
  {
   "cell_type": "code",
   "execution_count": null,
   "id": "ea2a15e7-2118-40c8-ab3f-73129830a561",
   "metadata": {},
   "outputs": [],
   "source": [
    "result = db.session.query(Framework, Language).join(Language).all()\n",
    "print(result)"
   ]
  },
  {
   "cell_type": "code",
   "execution_count": null,
   "id": "15096b1e-f13c-4c1b-8cb6-114f68819b65",
   "metadata": {},
   "outputs": [],
   "source": [
    "result = db.session.query(Actor, Movie, actor_movie).select_from(actor_movie).join(Actor).join(Movie).all()\n",
    "print(result)"
   ]
  },
  {
   "cell_type": "code",
   "execution_count": null,
   "id": "9eb8bded-6e9a-4bcc-b53a-7fe2bd628c49",
   "metadata": {},
   "outputs": [],
   "source": [
    "result = db.session.query(Actor, Movie, actor_movie).select_from(Actor).join(actor_movie).join(Movie).all()\n",
    "print(result)"
   ]
  },
  {
   "cell_type": "code",
   "execution_count": null,
   "id": "e8ad5f83-1f75-472a-9214-c239500be244",
   "metadata": {},
   "outputs": [],
   "source": [
    "result = db.session.query(Actor, Movie, actor_movie).select_from(Actor).join(actor_movie).join(Movie).filter(Actor.id==1).all()\n",
    "print(result)"
   ]
  }
 ],
 "metadata": {
  "kernelspec": {
   "display_name": "Python 3 (ipykernel)",
   "language": "python",
   "name": "python3"
  },
  "language_info": {
   "codemirror_mode": {
    "name": "ipython",
    "version": 3
   },
   "file_extension": ".py",
   "mimetype": "text/x-python",
   "name": "python",
   "nbconvert_exporter": "python",
   "pygments_lexer": "ipython3",
   "version": "3.11.1"
  }
 },
 "nbformat": 4,
 "nbformat_minor": 5
}
