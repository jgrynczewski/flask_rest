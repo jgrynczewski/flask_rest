{
 "cells": [
  {
   "cell_type": "markdown",
   "id": "6144477a",
   "metadata": {},
   "source": [
    "# Django ORM - Praca z danymi (komendy DML i DQL)"
   ]
  },
  {
   "cell_type": "markdown",
   "id": "f54273a4",
   "metadata": {},
   "source": [
    "**Definicje modelu**\n",
    "\n",
    "<code>class Task(models.Model):\n",
    "    name = models.CharField(max_length=64)\n",
    "</code>"
   ]
  },
  {
   "cell_type": "code",
   "execution_count": 1,
   "id": "adfe4c55",
   "metadata": {},
   "outputs": [],
   "source": [
    "from flask import Flask\n",
    "from flask_sqlalchemy import SQLAlchemy\n",
    "from sqlalchemy.orm import DeclarativeBase\n",
    "\n",
    "class Base(DeclarativeBase):\n",
    "  pass\n",
    "\n",
    "db = SQLAlchemy(model_class=Base)\n",
    "\n",
    "# create the app\n",
    "app = Flask(__name__)\n",
    "\n",
    "# configure the SQLite database, relative to the app instance folder\n",
    "app.config[\"SQLALCHEMY_DATABASE_URI\"] = \"sqlite:///db.sqlite3\"\n",
    "\n",
    "# initialize the app with the extension\n",
    "db.init_app(app)\n",
    "\n",
    "from sqlalchemy import Integer, String\n",
    "from sqlalchemy.orm import Mapped, mapped_column\n",
    "\n",
    "class Task(db.Model):\n",
    "    id: Mapped[int] = mapped_column(Integer, primary_key=True)\n",
    "    name: Mapped[str] = mapped_column(String)\n",
    "\n",
    "app.app_context().push()"
   ]
  },
  {
   "cell_type": "markdown",
   "id": "dd08bad7",
   "metadata": {},
   "source": [
    "## R - Read (CRUD) - DQL (Data Query Language) cd"
   ]
  },
  {
   "cell_type": "markdown",
   "id": "61c2d646",
   "metadata": {},
   "source": [
    "### Funkcja agregujące"
   ]
  },
  {
   "cell_type": "markdown",
   "id": "ec8a3c23",
   "metadata": {},
   "source": [
    "Funkcje agregujące w sql to operatory, które wykonują na wskazanych danych proste statystyki takie jak średnia, wartość maksymalna, suma czy liczba wpisów (SUM, AVG, MIN, MAX, COUNT). W Django funkcje agregujące realizowane są przez metodę aggregate. Metoda aggregate jako parametr przyjmuje wywołanie odpowiedniej klasy z modułu django.db.models (Sum, Avg, Min, Max, Count, ...)."
   ]
  },
  {
   "cell_type": "markdown",
   "id": "e06c00fe",
   "metadata": {},
   "source": [
    "Znajdź sumę indeksów wszystkich wpisów tabeli Task. "
   ]
  },
  {
   "cell_type": "code",
   "execution_count": 10,
   "id": "d422baaf",
   "metadata": {},
   "outputs": [
    {
     "name": "stdout",
     "output_type": "stream",
     "text": [
      "{'id__sum': 55}\n"
     ]
    }
   ],
   "source": [
    "from django.db.models import Sum\n",
    "\n",
    "a_sum = Task.objects.aggregate(Sum('id'))\n",
    "print(a_sum)"
   ]
  },
  {
   "cell_type": "markdown",
   "id": "adff4130",
   "metadata": {},
   "source": [
    "Funkcja agregująca zwraca słownik z kluczem \n",
    "< nazwa_kolumny_wzdluz_ktorej_zachodzi_agregacja >_ _<nazwa_funkcji_agregującej> oraz wartością będąca wyliczoną statystyką."
   ]
  },
  {
   "cell_type": "markdown",
   "id": "9502e4a8",
   "metadata": {},
   "source": [
    "Znajdź średnią wartość indeksu wpisów tabeli Task o wartości w kolumnie name \"Szukanie\""
   ]
  },
  {
   "cell_type": "code",
   "execution_count": 11,
   "id": "756a3310",
   "metadata": {},
   "outputs": [
    {
     "name": "stdout",
     "output_type": "stream",
     "text": [
      "{'id__avg': 5.5}\n"
     ]
    }
   ],
   "source": [
    "from django.db.models import Avg\n",
    "\n",
    "avg = Task.objects.filter(name=\"Szukanie\").aggregate(Avg('id'))\n",
    "print(avg)"
   ]
  },
  {
   "cell_type": "markdown",
   "id": "b9bd1611",
   "metadata": {},
   "source": [
    "## U - UPDATE (CRUD) - DML (Data Manipulation Language)"
   ]
  },
  {
   "cell_type": "markdown",
   "id": "0d8cf797",
   "metadata": {},
   "source": [
    "### Klauzula UPDATE"
   ]
  },
  {
   "cell_type": "code",
   "execution_count": 4,
   "id": "fecee9a8",
   "metadata": {},
   "outputs": [
    {
     "name": "stdout",
     "output_type": "stream",
     "text": [
      "0\n"
     ]
    }
   ],
   "source": [
    "# Metoda I - metoda update klasy Query\n",
    "# UWAGA! Dane należy najperw przefiltrować, żeby jednym zapytanie NIE ZMIENIĆ WSZYSTKICH wpisów \n",
    "# w tabeli.\n",
    "\n",
    "tasks = Task.query.filter_by(name=\"Szukanie\").update({'name': 'Znajdywanie'})\n",
    "print(tasks)\n",
    "db.session.commit()"
   ]
  },
  {
   "cell_type": "markdown",
   "id": "9bd74f21",
   "metadata": {},
   "source": [
    "Widzimy, że metoda update nie zwraca nam obiektu klasy QuerySet tylko liczbę zmodyfikowanych wpisów."
   ]
  },
  {
   "cell_type": "code",
   "execution_count": 6,
   "id": "599e99c7",
   "metadata": {},
   "outputs": [],
   "source": [
    "# Metoda II - bezpośrednia modyfikacja wartości atrybutu instancji modelu\n",
    "\n",
    "task = Task.query.filter_by(name=\"Znajdywanie\").first()\n",
    "task.name = \"Szukanie\"\n",
    "db.session.commit()\n"
   ]
  },
  {
   "cell_type": "markdown",
   "id": "c6abd166",
   "metadata": {},
   "source": [
    "## D - DELETE (CRUD) - DML (DATA Manipulation Language)"
   ]
  },
  {
   "cell_type": "markdown",
   "id": "03db1d66",
   "metadata": {},
   "source": [
    "### Klauzula DELETE"
   ]
  },
  {
   "cell_type": "code",
   "execution_count": 8,
   "id": "2f524fa8",
   "metadata": {},
   "outputs": [
    {
     "name": "stdout",
     "output_type": "stream",
     "text": [
      "0\n"
     ]
    }
   ],
   "source": [
    "# Metoda I - metoda delete klasy Query\n",
    "# UWAGA! Dane należy najperw przefiltrować, żeby jednym zapytanie NIE USUNĄĆ WSZYSTKICH wpisów \n",
    "# w tabeli.\n",
    "\n",
    "task = Task.query.filter_by(name=\"Pływanie\").delete()\n",
    "print(task)\n",
    "db.session.commit()"
   ]
  },
  {
   "cell_type": "markdown",
   "id": "e51f9359",
   "metadata": {},
   "source": [
    "Podobnie jak metoda update, metoda delete nie zwraca nam obiektu klasy Query tylko informacje o liczbie usuniętych wpisów"
   ]
  },
  {
   "cell_type": "code",
   "execution_count": 46,
   "id": "79904943-5ac9-4165-ace4-b83ef6d62651",
   "metadata": {},
   "outputs": [
    {
     "name": "stdout",
     "output_type": "stream",
     "text": [
      "<Task 6>\n"
     ]
    }
   ],
   "source": [
    "# Można też w inny sposób\n",
    "\n",
    "task = Task.query.filter_by(name=\"Szukanie\").first()\n",
    "db.session.delete(task)\n",
    "db.session.commit()"
   ]
  },
  {
   "cell_type": "markdown",
   "id": "9cdf9aef-4e21-45cf-891f-cf73c5e3ab00",
   "metadata": {},
   "source": [
    "W ten sposób wywołujemy polecenia DML i DDL za pomocą SQLAlchemy ORM. \n",
    "\n",
    "To samo możemy zrobić za pomocą SQLAlchemy Core."
   ]
  },
  {
   "cell_type": "markdown",
   "id": "6eed07bb-c1ff-46dd-8b49-c858c99fb82a",
   "metadata": {},
   "source": [
    "## Core"
   ]
  },
  {
   "cell_type": "markdown",
   "id": "8f5e2ad5-8288-403b-89b6-7ed0f648a28f",
   "metadata": {},
   "source": [
    "Kilka przykładów"
   ]
  },
  {
   "cell_type": "code",
   "execution_count": 47,
   "id": "80ac5502-94ff-4205-bc2b-b81e5ea0cfaf",
   "metadata": {},
   "outputs": [],
   "source": [
    "# C z CRUD\n",
    "from sqlalchemy import insert\n",
    "\n",
    "stmt = (\n",
    "    insert(Task).\n",
    "    values(name='Suszenie')\n",
    ")\n",
    "db.session.execute(stmt)\n",
    "db.session.commit()"
   ]
  },
  {
   "cell_type": "code",
   "execution_count": 48,
   "id": "4a6e308d-940c-4e57-b982-79c66cbd2403",
   "metadata": {},
   "outputs": [
    {
     "name": "stdout",
     "output_type": "stream",
     "text": [
      "SELECT task.id, task.name \n",
      "FROM task\n"
     ]
    }
   ],
   "source": [
    "# R Z CRUD\n",
    "from sqlalchemy import select\n",
    "\n",
    "stmt = select(Task)\n",
    "print(stmt)"
   ]
  },
  {
   "cell_type": "code",
   "execution_count": 49,
   "id": "2bab55bd-3b3b-4580-baf4-5d15ee30cb11",
   "metadata": {},
   "outputs": [
    {
     "name": "stdout",
     "output_type": "stream",
     "text": [
      "(<Task 1>,)\n",
      "(<Task 2>,)\n",
      "(<Task 3>,)\n",
      "(<Task 4>,)\n",
      "(<Task 7>,)\n",
      "(<Task 8>,)\n",
      "(<Task 9>,)\n",
      "(<Task 10>,)\n",
      "(<Task 11>,)\n"
     ]
    }
   ],
   "source": [
    "result = db.session.execute(stmt)\n",
    "\n",
    "for item in result:\n",
    "    print(item)"
   ]
  },
  {
   "cell_type": "code",
   "execution_count": 50,
   "id": "ca575553-9d40-4b09-b7f7-3962433430af",
   "metadata": {},
   "outputs": [
    {
     "name": "stdout",
     "output_type": "stream",
     "text": [
      "[(<Task 1>,), (<Task 2>,), (<Task 3>,), (<Task 4>,), (<Task 7>,), (<Task 8>,), (<Task 9>,), (<Task 10>,), (<Task 11>,)]\n"
     ]
    }
   ],
   "source": [
    "# fetchall\n",
    "\n",
    "result = db.session.execute(stmt)\n",
    "print(result.fetchall())"
   ]
  },
  {
   "cell_type": "code",
   "execution_count": 51,
   "id": "4602d4ce-da74-4090-ae43-e437c30215b2",
   "metadata": {},
   "outputs": [
    {
     "name": "stdout",
     "output_type": "stream",
     "text": [
      "[(<Task 1>,), (<Task 2>,), (<Task 3>,), (<Task 4>,), (<Task 7>,)]\n"
     ]
    }
   ],
   "source": [
    "# fetchmany\n",
    "\n",
    "result = db.session.execute(stmt)\n",
    "print(result.fetchmany(size=5))"
   ]
  },
  {
   "cell_type": "code",
   "execution_count": 52,
   "id": "bf8ef102-d7aa-4b9b-a018-4e309581e639",
   "metadata": {},
   "outputs": [
    {
     "name": "stdout",
     "output_type": "stream",
     "text": [
      "(<Task 1>,)\n"
     ]
    }
   ],
   "source": [
    "# fetchaone\n",
    "\n",
    "result = db.session.execute(stmt)\n",
    "print(result.fetchone())"
   ]
  },
  {
   "cell_type": "markdown",
   "id": "46015bea-a272-4d5b-baa0-0529f561e12d",
   "metadata": {},
   "source": [
    "### Filtry"
   ]
  },
  {
   "cell_type": "code",
   "execution_count": 54,
   "id": "3edd10d4-c7ec-4de3-936a-c1e8fb5d09a6",
   "metadata": {},
   "outputs": [
    {
     "name": "stdout",
     "output_type": "stream",
     "text": [
      "[('Malowanie',)]\n"
     ]
    }
   ],
   "source": [
    "stmt = (\n",
    "    select(Task.name).\n",
    "    where(Task.id==4)\n",
    ")\n",
    "task = db.session.execute(stmt)\n",
    "print(task.fetchall())"
   ]
  },
  {
   "cell_type": "code",
   "execution_count": 56,
   "id": "02829499-41da-45c9-bb61-40a866d90344",
   "metadata": {},
   "outputs": [
    {
     "name": "stdout",
     "output_type": "stream",
     "text": [
      "[]\n"
     ]
    }
   ],
   "source": [
    "stmt = (\n",
    "    select(Task).\n",
    "    filter_by(name=\"Szukanie\")\n",
    ")\n",
    "task = db.session.execute(stmt).fetchall()\n",
    "print(task)"
   ]
  },
  {
   "cell_type": "code",
   "execution_count": 58,
   "id": "3dbda903-4361-4638-b5bf-a97a43f382dc",
   "metadata": {},
   "outputs": [],
   "source": [
    "# U z CRUD\n",
    "from sqlalchemy import update\n",
    "stmt = (\n",
    "    update(Task).\n",
    "    where(Task.id == 2).\n",
    "    values(name='Odśnieżanie')\n",
    ")\n",
    "db.session.execute(stmt)\n",
    "db.session.commit()"
   ]
  },
  {
   "cell_type": "code",
   "execution_count": 59,
   "id": "83df967e-0c44-443a-8b0c-5759a0c4adb8",
   "metadata": {},
   "outputs": [],
   "source": [
    "# D Z CRUD\n",
    "from sqlalchemy import delete\n",
    "\n",
    "stmt = (\n",
    "    delete(Task).\n",
    "    where(Task.id == 2)\n",
    ")\n",
    "db.session.execute(stmt)\n",
    "db.session.commit()"
   ]
  }
 ],
 "metadata": {
  "kernelspec": {
   "display_name": "Python 3 (ipykernel)",
   "language": "python",
   "name": "python3"
  },
  "language_info": {
   "codemirror_mode": {
    "name": "ipython",
    "version": 3
   },
   "file_extension": ".py",
   "mimetype": "text/x-python",
   "name": "python",
   "nbconvert_exporter": "python",
   "pygments_lexer": "ipython3",
   "version": "3.11.1"
  }
 },
 "nbformat": 4,
 "nbformat_minor": 5
}
