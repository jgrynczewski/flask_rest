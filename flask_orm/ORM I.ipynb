{
 "cells": [
  {
   "cell_type": "markdown",
   "id": "6460ac6c",
   "metadata": {},
   "source": [
    "# Flask-SQLAlchemy ORM - Praca z danymi (komendy DML i DQL)"
   ]
  },
  {
   "cell_type": "markdown",
   "id": "b23b23aa",
   "metadata": {},
   "source": [
    "### Co potrzebujemy do uruchomienia tego notebooka?\n",
    "* jupyter\n",
    "* Flask-SQLAlchemy\n",
    "\n",
    "<code>$ pip install jupyter Flask-SQLAlchemy</code>\n",
    "\n",
    "Więcej informacji znajdziesz [tutaj](https://stackoverflow.com/questions/39773125/use-flask-sqlalchemy-models-in-jupyter-notebook)"
   ]
  },
  {
   "cell_type": "code",
   "execution_count": null,
   "id": "eb90c1ba-00e8-4d2b-bf49-e8cb65e64dea",
   "metadata": {},
   "outputs": [],
   "source": [
    "### Połączenie z bazą "
   ]
  },
  {
   "cell_type": "code",
   "execution_count": 1,
   "id": "1052e6ac-06e9-4ea6-8793-1826bd974ef0",
   "metadata": {},
   "outputs": [],
   "source": [
    "from flask import Flask\n",
    "from flask_sqlalchemy import SQLAlchemy\n",
    "from sqlalchemy.orm import DeclarativeBase\n",
    "\n",
    "class Base(DeclarativeBase):\n",
    "  pass\n",
    "\n",
    "db = SQLAlchemy(model_class=Base)"
   ]
  },
  {
   "cell_type": "code",
   "execution_count": 2,
   "id": "3e8bce76-91c8-4227-a318-eeca2a33fdc8",
   "metadata": {},
   "outputs": [],
   "source": [
    "# create the app\n",
    "app = Flask(__name__)\n",
    "\n",
    "# configure the SQLite database, relative to the app instance folder\n",
    "app.config[\"SQLALCHEMY_DATABASE_URI\"] = \"sqlite:///database.sqlite3\"\n",
    "\n",
    "# initialize the app with the extension (instance folder is created)\n",
    "db.init_app(app)"
   ]
  },
  {
   "cell_type": "markdown",
   "id": "cadb29ab",
   "metadata": {},
   "source": [
    "## Definicja modelu\n",
    "\n",
    "<code>class Task(models.Model):\n",
    "    name = models.CharField(max_length=64)\n",
    "</code>\n",
    "<code>\n",
    "    def __str__(self):\n",
    "        return f\"{self.name}\"\n",
    "</code>"
   ]
  },
  {
   "cell_type": "code",
   "execution_count": 3,
   "id": "ef8690ad-ad16-46b1-b6ae-950247e46839",
   "metadata": {},
   "outputs": [],
   "source": [
    "from sqlalchemy import Integer, String\n",
    "from sqlalchemy.orm import Mapped, mapped_column\n",
    "\n",
    "class Task(db.Model):\n",
    "    id: Mapped[int] = mapped_column(Integer, primary_key=True)\n",
    "    name: Mapped[str] = mapped_column(String)"
   ]
  },
  {
   "cell_type": "code",
   "execution_count": 4,
   "id": "dc8b775b-0c11-4d16-81f7-b7675ef665e6",
   "metadata": {},
   "outputs": [],
   "source": [
    "app.app_context().push()"
   ]
  },
  {
   "cell_type": "code",
   "execution_count": 5,
   "id": "77dcf7c4-b024-44bb-951f-2a172cd90ad2",
   "metadata": {},
   "outputs": [],
   "source": [
    "db.create_all()\n",
    "\n",
    "# optionally\n",
    "# with app.app_context():\n",
    "    # db.create_all()"
   ]
  },
  {
   "cell_type": "markdown",
   "id": "d519ed11",
   "metadata": {},
   "source": [
    "## C - CREATE (CRUD) - DML (Data Manipulation Language)"
   ]
  },
  {
   "cell_type": "markdown",
   "id": "2dbc7d4f",
   "metadata": {},
   "source": [
    "### Klauzula INSERT"
   ]
  },
  {
   "cell_type": "code",
   "execution_count": 9,
   "id": "61c3e6d9",
   "metadata": {},
   "outputs": [],
   "source": [
    "# Metoda I - metoda add sesji\n",
    "\n",
    "task = Task(name=\"Sprzątanie\")\n",
    "db.session.add(task)\n",
    "db.session.commit()"
   ]
  },
  {
   "cell_type": "code",
   "execution_count": 10,
   "id": "1b0b5824",
   "metadata": {},
   "outputs": [],
   "source": [
    "# Metoda II - metoda add_all sesji\n",
    "\n",
    "db.session.add_all([\n",
    "    Task(name=\"Pisanie\"),\n",
    "    Task(name=\"Zamiatanie\"),\n",
    "    Task(name=\"Malowanie\")\n",
    "])\n",
    "db.session.commit()"
   ]
  },
  {
   "cell_type": "code",
   "execution_count": 11,
   "id": "15259608",
   "metadata": {},
   "outputs": [],
   "source": [
    "# Przed przejściem do litery R dodajmy jeszcze kilka wpisów do tabeli, żeby mieć \n",
    "# co analizować podczas poznawania instrukcji DQL.\n",
    "\n",
    "db.session.add_all([\n",
    "    Task(name=\"Szukanie\"),\n",
    "    Task(name=\"Szukanie\"),\n",
    "    Task(name=\"Programowanie\"),\n",
    "    Task(name=\"Pływanie\"),\n",
    "    Task(name=\"Pranie\"),\n",
    "    Task(name=\"Dodawanie\"),\n",
    "])\n",
    "db.session.commit()"
   ]
  },
  {
   "cell_type": "markdown",
   "id": "29e837e1",
   "metadata": {},
   "source": [
    "## R - Read (CRUD) - DQL (Data Query Language)"
   ]
  },
  {
   "cell_type": "markdown",
   "id": "c791c5ee",
   "metadata": {},
   "source": [
    "### Klauzula SELECT"
   ]
  },
  {
   "cell_type": "markdown",
   "id": "b0d19478",
   "metadata": {},
   "source": [
    "Operacja READ w SQL to instrukcja SELECT z całą swoją rozbudowaną składnią i operatorami takimi jak: LIKE, GROUP_BY, ORDER_BY, HAVING, IN, JOIN, UNION, ...\n",
    "Metoda **.query** sesji posiada odpowiednie metody implementujące część tych instrukcji."
   ]
  },
  {
   "cell_type": "code",
   "execution_count": 12,
   "id": "f5fb4b30",
   "metadata": {
    "scrolled": true
   },
   "outputs": [
    {
     "name": "stdout",
     "output_type": "stream",
     "text": [
      "['__annotations__', '__class__', '__class_getitem__', '__delattr__', '__dict__', '__dir__', '__doc__', '__eq__', '__format__', '__fsa__', '__ge__', '__getattribute__', '__getstate__', '__gt__', '__hash__', '__init__', '__init_subclass__', '__le__', '__lt__', '__mapper__', '__module__', '__ne__', '__new__', '__orig_bases__', '__parameters__', '__reduce__', '__reduce_ex__', '__repr__', '__setattr__', '__sizeof__', '__slots__', '__str__', '__subclasshook__', '__table__', '__table_cls__', '__tablename__', '__weakref__', '_is_protocol', '_sa_class_manager', '_sa_registry', 'id', 'metadata', 'name', 'query', 'query_class', 'registry']\n"
     ]
    }
   ],
   "source": [
    "print(dir(Task))"
   ]
  },
  {
   "cell_type": "code",
   "execution_count": 13,
   "id": "0b16167d-2226-4da0-9390-2ac56feba505",
   "metadata": {},
   "outputs": [
    {
     "name": "stdout",
     "output_type": "stream",
     "text": [
      "SELECT task.id AS task_id, task.name AS task_name \n",
      "FROM task\n"
     ]
    }
   ],
   "source": [
    "# metoda query sesji\n",
    "print(db.session.query(Task))"
   ]
  },
  {
   "cell_type": "code",
   "execution_count": 14,
   "id": "197031c5-715e-4d6d-a02c-22c9b4aefea3",
   "metadata": {},
   "outputs": [
    {
     "name": "stdout",
     "output_type": "stream",
     "text": [
      "<class 'flask_sqlalchemy.query.Query'>\n"
     ]
    }
   ],
   "source": [
    "print(type(db.session.query(Task)))"
   ]
  },
  {
   "cell_type": "code",
   "execution_count": 15,
   "id": "39b8b63a-d0c7-4cc4-8fee-0915924aec7b",
   "metadata": {},
   "outputs": [
    {
     "name": "stdout",
     "output_type": "stream",
     "text": [
      "['__annotations__', '__class__', '__class_getitem__', '__clause_element__', '__delattr__', '__dict__', '__dir__', '__doc__', '__eq__', '__format__', '__ge__', '__getattribute__', '__getitem__', '__getstate__', '__gt__', '__hash__', '__init__', '__init_subclass__', '__iter__', '__le__', '__lt__', '__module__', '__ne__', '__new__', '__orig_bases__', '__parameters__', '__reduce__', '__reduce_ex__', '__repr__', '__setattr__', '__sizeof__', '__slots__', '__str__', '__subclasshook__', '__weakref__', '_add_context_option', '_all_selected_columns', '_annotate', '_annotations', '_annotations_cache_key', '_assert_no_memoizations', '_auto_correlate', '_clone', '_clone_annotations_traverse_internals', '_compile_context', '_compile_options', '_compile_state', '_copy_internals', '_correlate', '_current_path', '_deannotate', '_distinct', '_distinct_on', '_effective_plugin_target', '_enable_assertions', '_entity_from_pre_ent_zero', '_executable_traverse_internals', '_execution_options', '_filter_by_zero', '_final_statement', '_for_update_arg', '_from_obj', '_from_selectable', '_gen_annotations_cache_key', '_generate', '_generate_compiler_dispatch', '_get_bind_args', '_get_condition', '_get_existing_condition', '_get_impl', '_get_options', '_get_select_statement_only', '_group_by_clauses', '_has_hints_traverse_internals', '_has_prefixes_traverse_internals', '_has_row_limiting_clause', '_has_suffixes_traverse_internals', '_having_criteria', '_hints', '_is_default_generator', '_is_immutable', '_is_protocol', '_iter', '_iterate_from_elements', '_label_style', '_last_joined_entity', '_legacy_from_self', '_limit_clause', '_memoized_keys', '_memoized_select_entities', '_no_clauseelement_condition', '_no_criterion_assertion', '_no_criterion_condition', '_no_limit_offset', '_no_statement_condition', '_offset_clause', '_only_full_mapper_zero', '_order_by_clauses', '_params', '_prefixes', '_propagate_attrs', '_raw_columns', '_reset_memoizations', '_role_name', '_set_compile_options', '_set_enable_single_crit', '_set_entities', '_set_lazyload_from', '_set_memoized_attribute', '_set_op', '_set_propagate_attrs', '_set_select_from', '_setup_joins', '_should_log_debug', '_should_log_info', '_statement', '_statement_20', '_statement_hints', '_suffixes', '_update_compile_options', '_values', '_values_no_warn', '_where_criteria', '_with_annotations', '_with_compile_options', '_with_context_options', '_with_current_path', '_with_hint', '_with_invoke_all_eagers', '_with_options', 'add_column', 'add_columns', 'add_entity', 'all', 'allows_lambda', 'apply_labels', 'as_scalar', 'autoflush', 'column_descriptions', 'correlate', 'count', 'cte', 'delete', 'dispatch', 'distinct', 'enable_assertions', 'enable_eagerloads', 'except_', 'except_all', 'execution_options', 'exists', 'filter', 'filter_by', 'first', 'first_or_404', 'from_statement', 'get', 'get_children', 'get_execution_options', 'get_label_style', 'get_or_404', 'group_by', 'having', 'instances', 'intersect', 'intersect_all', 'is_delete', 'is_dml', 'is_insert', 'is_select', 'is_single_entity', 'is_text', 'is_update', 'join', 'label', 'lazy_loaded_from', 'limit', 'load_options', 'logger', 'logging_name', 'memoized_attribute', 'memoized_instancemethod', 'merge_result', 'offset', 'one', 'one_or_404', 'one_or_none', 'only_return_tuples', 'options', 'order_by', 'outerjoin', 'paginate', 'params', 'populate_existing', 'prefix_with', 'reset_joinpoint', 'scalar', 'scalar_subquery', 'select_from', 'selectable', 'session', 'set_label_style', 'slice', 'statement', 'subquery', 'suffix_with', 'supports_execution', 'tuples', 'union', 'union_all', 'update', 'uses_inspection', 'value', 'values', 'where', 'whereclause', 'with_entities', 'with_for_update', 'with_hint', 'with_labels', 'with_parent', 'with_session', 'with_statement_hint', 'with_transformation', 'yield_per']\n"
     ]
    }
   ],
   "source": [
    "print(dir(db.session.query(Task)))"
   ]
  },
  {
   "cell_type": "code",
   "execution_count": 16,
   "id": "9f83a3b5-40a2-4ac6-87e1-d30a4dbe9ccd",
   "metadata": {},
   "outputs": [
    {
     "name": "stdout",
     "output_type": "stream",
     "text": [
      "[<Task 1>, <Task 2>, <Task 3>, <Task 4>, <Task 5>, <Task 6>, <Task 7>, <Task 8>, <Task 9>, <Task 10>]\n"
     ]
    }
   ],
   "source": [
    "# metoda `all` obiektu `query`\n",
    "result = db.session.query(Task).all()\n",
    "print(result)"
   ]
  },
  {
   "cell_type": "code",
   "execution_count": 17,
   "id": "2886a177-7133-4af5-95fe-1e44b6f12a58",
   "metadata": {},
   "outputs": [
    {
     "name": "stdout",
     "output_type": "stream",
     "text": [
      "<class 'list'>\n"
     ]
    }
   ],
   "source": [
    "print(type(result))"
   ]
  },
  {
   "cell_type": "code",
   "execution_count": 18,
   "id": "80dac796-a912-41fc-96a6-82f45858b4e3",
   "metadata": {},
   "outputs": [
    {
     "name": "stdout",
     "output_type": "stream",
     "text": [
      "<Task 1>\n"
     ]
    }
   ],
   "source": [
    "print(result[0])"
   ]
  },
  {
   "cell_type": "code",
   "execution_count": 19,
   "id": "2c38a142-1391-4b97-b335-edc87f178844",
   "metadata": {},
   "outputs": [
    {
     "name": "stdout",
     "output_type": "stream",
     "text": [
      "<class '__main__.Task'>\n"
     ]
    }
   ],
   "source": [
    "print(type(result[0]))"
   ]
  },
  {
   "cell_type": "code",
   "execution_count": 20,
   "id": "99932d91-81c6-4a07-9b2b-09de4bafdcf9",
   "metadata": {},
   "outputs": [
    {
     "name": "stdout",
     "output_type": "stream",
     "text": [
      "<Task 1>\n",
      "<Task 2>\n",
      "<Task 3>\n",
      "<Task 4>\n",
      "<Task 5>\n",
      "<Task 6>\n",
      "<Task 7>\n",
      "<Task 8>\n",
      "<Task 9>\n",
      "<Task 10>\n"
     ]
    }
   ],
   "source": [
    "for entry in result:\n",
    "    print(entry)"
   ]
  },
  {
   "cell_type": "code",
   "execution_count": 21,
   "id": "22324346-ed18-4934-bc90-8c7b78a7fb34",
   "metadata": {},
   "outputs": [
    {
     "name": "stdout",
     "output_type": "stream",
     "text": [
      "Sprzątanie\n",
      "Pisanie\n",
      "Zamiatanie\n",
      "Malowanie\n",
      "Szukanie\n",
      "Szukanie\n",
      "Programowanie\n",
      "Pływanie\n",
      "Pranie\n",
      "Dodawanie\n"
     ]
    }
   ],
   "source": [
    "for entry in result:\n",
    "    print(entry.name)"
   ]
  },
  {
   "cell_type": "code",
   "execution_count": 22,
   "id": "75125046-c130-445f-98b1-19cef72750b9",
   "metadata": {},
   "outputs": [
    {
     "name": "stdout",
     "output_type": "stream",
     "text": [
      "SELECT task.name AS task_name \n",
      "FROM task\n"
     ]
    }
   ],
   "source": [
    "# jeżeli nie chcemy z bazy wyciągać wszystkiego, tylko wartości w wybranych kolumnach, to kolumny podajemy jako parametry metody query.\n",
    "result = db.session.query(Task.name)\n",
    "print(result)"
   ]
  },
  {
   "cell_type": "code",
   "execution_count": 23,
   "id": "68a56db8-e5ce-492c-bf0d-3b1755bc73c9",
   "metadata": {},
   "outputs": [
    {
     "name": "stdout",
     "output_type": "stream",
     "text": [
      "('Sprzątanie',)\n"
     ]
    }
   ],
   "source": [
    "print(result[0])"
   ]
  },
  {
   "cell_type": "code",
   "execution_count": 24,
   "id": "e06285ba-0ab5-4961-9873-0128c92e0906",
   "metadata": {},
   "outputs": [
    {
     "name": "stdout",
     "output_type": "stream",
     "text": [
      "<class 'sqlalchemy.engine.row.Row'>\n"
     ]
    }
   ],
   "source": [
    "print(type(result[0]))"
   ]
  },
  {
   "cell_type": "code",
   "execution_count": 25,
   "id": "d766117e-8c2c-44d7-b488-586c7f4a2da4",
   "metadata": {},
   "outputs": [
    {
     "name": "stdout",
     "output_type": "stream",
     "text": [
      "['__abstractmethods__', '__annotations__', '__class__', '__class_getitem__', '__contains__', '__delattr__', '__dir__', '__doc__', '__eq__', '__format__', '__ge__', '__getattr__', '__getattribute__', '__getitem__', '__getstate__', '__gt__', '__hash__', '__init__', '__init_subclass__', '__iter__', '__le__', '__len__', '__lt__', '__module__', '__ne__', '__new__', '__orig_bases__', '__parameters__', '__pyx_vtable__', '__reduce__', '__reduce_ex__', '__repr__', '__reversed__', '__setattr__', '__setstate__', '__sizeof__', '__slots__', '__str__', '__subclasshook__', '_abc_impl', '_asdict', '_data', '_fields', '_filter_on_values', '_get_by_key_impl_mapping', '_is_protocol', '_key_to_index', '_mapping', '_op', '_parent', '_special_name_accessor', '_t', '_to_tuple_instance', '_tuple', '_values_impl', 'count', 'index', 't', 'tuple']\n"
     ]
    }
   ],
   "source": [
    "print(dir(result[0]))"
   ]
  },
  {
   "cell_type": "code",
   "execution_count": 26,
   "id": "fc5eb282-c601-4a32-8504-cdde4def29b2",
   "metadata": {},
   "outputs": [
    {
     "name": "stdout",
     "output_type": "stream",
     "text": [
      "Sprzątanie\n"
     ]
    }
   ],
   "source": [
    "print(result[0][0])"
   ]
  },
  {
   "cell_type": "code",
   "execution_count": 27,
   "id": "552d2081-ccfc-4f4b-ac4b-7592b104457c",
   "metadata": {},
   "outputs": [
    {
     "name": "stdout",
     "output_type": "stream",
     "text": [
      "Sprzątanie\n"
     ]
    }
   ],
   "source": [
    "print(result[0].name)"
   ]
  },
  {
   "cell_type": "markdown",
   "id": "aef1b468-a5d2-4637-a532-07413f830871",
   "metadata": {},
   "source": [
    "Możemy też użyć metody query modelu."
   ]
  },
  {
   "cell_type": "code",
   "execution_count": 28,
   "id": "4c13f687",
   "metadata": {},
   "outputs": [
    {
     "name": "stdout",
     "output_type": "stream",
     "text": [
      "SELECT task.id AS task_id, task.name AS task_name \n",
      "FROM task\n"
     ]
    }
   ],
   "source": [
    "print(Task.query)"
   ]
  },
  {
   "cell_type": "code",
   "execution_count": 29,
   "id": "11af7a2b-97f4-4adc-a90c-2335e8a93f28",
   "metadata": {},
   "outputs": [
    {
     "name": "stdout",
     "output_type": "stream",
     "text": [
      "<class 'flask_sqlalchemy.query.Query'>\n"
     ]
    }
   ],
   "source": [
    "print(type(Task.query))"
   ]
  },
  {
   "cell_type": "code",
   "execution_count": 30,
   "id": "65bb4627-c1d1-45a6-93ab-dd96887770f8",
   "metadata": {},
   "outputs": [
    {
     "name": "stdout",
     "output_type": "stream",
     "text": [
      "[<Task 1>, <Task 2>, <Task 3>, <Task 4>, <Task 5>, <Task 6>, <Task 7>, <Task 8>, <Task 9>, <Task 10>]\n"
     ]
    }
   ],
   "source": [
    "tasks = Task.query.all()\n",
    "\n",
    "print(tasks)"
   ]
  },
  {
   "cell_type": "markdown",
   "id": "bf03e3c8",
   "metadata": {},
   "source": [
    "Metoda all zwraca listę instancji modelu."
   ]
  },
  {
   "cell_type": "markdown",
   "id": "89b90732",
   "metadata": {},
   "source": [
    "Wśród wielu metod udostępnianych przez query można znaleźć all, filter, filter_by, exists, union, get, firstFD, order_by, ..."
   ]
  },
  {
   "cell_type": "markdown",
   "id": "4e3217dd",
   "metadata": {},
   "source": [
    "Popatrzmy na wybrane"
   ]
  },
  {
   "cell_type": "code",
   "execution_count": 32,
   "id": "b2f44a71",
   "metadata": {},
   "outputs": [
    {
     "name": "stdout",
     "output_type": "stream",
     "text": [
      "SELECT task.id AS task_id, task.name AS task_name \n",
      "FROM task ORDER BY task.name\n"
     ]
    }
   ],
   "source": [
    "tasks = Task.query.order_by('name')\n",
    "\n",
    "print(tasks)"
   ]
  },
  {
   "cell_type": "code",
   "execution_count": 33,
   "id": "bcd0f7c7-f9b7-4973-8057-4e38f1316d76",
   "metadata": {},
   "outputs": [
    {
     "name": "stdout",
     "output_type": "stream",
     "text": [
      "<class 'flask_sqlalchemy.query.Query'>\n"
     ]
    }
   ],
   "source": [
    "print(type(tasks))"
   ]
  },
  {
   "cell_type": "markdown",
   "id": "8f608826-0585-47dd-a472-504250553c9d",
   "metadata": {},
   "source": [
    "Metoda order_by też zwraca obiekt klasy Query na którym możemy dalej działać. Skoro to co zwraca metoda order_by to obiekt klasy Query, to ten obiekt posiada takie metody jak filter_by, order_by, ... Wynika z tego, że te metody możemy łańcuchować, tzn. wywoływać jedna po drugiej."
   ]
  },
  {
   "cell_type": "code",
   "execution_count": 34,
   "id": "62754039-0574-467f-9d56-de8620cd73ef",
   "metadata": {},
   "outputs": [
    {
     "name": "stdout",
     "output_type": "stream",
     "text": [
      "SELECT task.id AS task_id, task.name AS task_name \n",
      "FROM task \n",
      "WHERE task.name = ? ORDER BY task.name\n"
     ]
    }
   ],
   "source": [
    "tasks = Task.query.order_by('name').filter_by(name='Szukanie')\n",
    "\n",
    "print(tasks)"
   ]
  },
  {
   "cell_type": "code",
   "execution_count": 35,
   "id": "dc55bd94-14c0-49db-a33a-9de376490ccb",
   "metadata": {},
   "outputs": [
    {
     "name": "stdout",
     "output_type": "stream",
     "text": [
      "<class 'flask_sqlalchemy.query.Query'>\n"
     ]
    }
   ],
   "source": [
    "print(type(tasks))"
   ]
  },
  {
   "cell_type": "markdown",
   "id": "9055cbc2-2b6f-44da-9a9f-f9b25c047701",
   "metadata": {},
   "source": [
    "I znów Query. Struktura umożliwiająca łańcuchowanie metod na tyle często pojawia się w programowaniu, że posiada nawet swoją nazwę. Mówimy, że Query implementuje wzorzec fluent interface (płynny interfejs)."
   ]
  },
  {
   "cell_type": "markdown",
   "id": "11c8ecea-9d26-40f1-b0b6-fbcaf0db8fa7",
   "metadata": {},
   "source": [
    "Ale nie wszystkie metody Query zwracają Query. Na przykład metody all, first i one zwracają odpowiednio listę wszystkich, pierwszy i jeden element (czyli instancje modelu). Takie metody nie zwracają obiektu klasy Query (nie implementują wzorca fluent interface) i dlatego po ich użyciu nie można już użyć żadnej innej metody obiektu Query do łańcuchowania."
   ]
  },
  {
   "cell_type": "code",
   "execution_count": 36,
   "id": "dab49d46-421c-4680-ac7c-9427f6184b9f",
   "metadata": {},
   "outputs": [
    {
     "name": "stdout",
     "output_type": "stream",
     "text": [
      "[<Task 10>, <Task 4>, <Task 2>, <Task 9>, <Task 7>, <Task 8>, <Task 1>]\n"
     ]
    }
   ],
   "source": [
    "tasks = Task.query.order_by('name').limit(7).all()\n",
    "print(tasks)"
   ]
  },
  {
   "cell_type": "code",
   "execution_count": 37,
   "id": "06651188-0cdc-455f-b9b4-ec30d9678feb",
   "metadata": {},
   "outputs": [
    {
     "name": "stdout",
     "output_type": "stream",
     "text": [
      "<Task 10>\n"
     ]
    }
   ],
   "source": [
    "task = Task.query.order_by('name').limit(7).first()\n",
    "print(task)"
   ]
  },
  {
   "cell_type": "code",
   "execution_count": null,
   "id": "3a938242-ed85-4943-a2d8-0da81b119379",
   "metadata": {},
   "outputs": [],
   "source": [
    "task = Task.query.order_by(Task.name.desc()).limit(7).first()\n",
    "print(task)"
   ]
  },
  {
   "cell_type": "markdown",
   "id": "553bb871-b898-4abb-8afc-259eaea3b6e2",
   "metadata": {},
   "source": [
    "Metody klasy Query implementują wzorzec lazy evaluation. Są wykonywane dopiero w momencie konsumowania. Konsumowanie polega na użyciu wartości zwracanych w zapytaniu i jest równoznaczne z wykonaniem zapytania na bazie. Skonsumować obiekt klasy Query można np. poprzez wywołanie jednej z konsumujących metod (all, first, ...), przeiterowanie się po nim czy np. zrzutowaniu obiektu na listę. Jest to moment, w którym wyniki są potrzebne (do wyświetlenia lub np. zapisania do pamięci) i nie można dłużej zwlekać z wykonaniem zapytania na bazie."
   ]
  },
  {
   "cell_type": "code",
   "execution_count": 38,
   "id": "c2e475c9-d5a1-4411-a2a5-bee3985edf9d",
   "metadata": {},
   "outputs": [
    {
     "name": "stdout",
     "output_type": "stream",
     "text": [
      "Dodawanie\n",
      "Malowanie\n",
      "Pisanie\n",
      "Pranie\n",
      "Programowanie\n",
      "Pływanie\n",
      "Sprzątanie\n"
     ]
    }
   ],
   "source": [
    "for item in tasks:\n",
    "    print(item.name)"
   ]
  },
  {
   "cell_type": "markdown",
   "id": "c8c15e6b",
   "metadata": {},
   "source": [
    "### Dostęp do wartości w poszczególnych kolumnach wpisu"
   ]
  },
  {
   "cell_type": "markdown",
   "id": "496ae855",
   "metadata": {},
   "source": [
    "Do wartości w poszczególnych kolumnach wpisu dostajemy się poprzez notacją obiektową (odwołujemy się do atrybutu instancji modelu). Jaką wartość w kolumnie name ma ostatni wpis z tabelki Task?"
   ]
  },
  {
   "cell_type": "code",
   "execution_count": 39,
   "id": "d70fff35",
   "metadata": {},
   "outputs": [
    {
     "name": "stdout",
     "output_type": "stream",
     "text": [
      "Dodawanie\n"
     ]
    }
   ],
   "source": [
    "print(task.name)"
   ]
  },
  {
   "cell_type": "markdown",
   "id": "40a44e2b",
   "metadata": {},
   "source": [
    "### Filtry - metody filter, filter_by (klauzula WHERE)"
   ]
  },
  {
   "cell_type": "markdown",
   "id": "f2cd386e-57e1-4b6f-a318-63a1dd23a569",
   "metadata": {},
   "source": [
    "#### Metoda I - filter_by"
   ]
  },
  {
   "cell_type": "markdown",
   "id": "68e149c7-a029-4058-abc3-6c94da716109",
   "metadata": {},
   "source": [
    "Metoda ```filter_by``` służy do wykonywania prostych zapytań."
   ]
  },
  {
   "cell_type": "code",
   "execution_count": 40,
   "id": "21af0ce3-79ee-4914-8382-c78df5972826",
   "metadata": {},
   "outputs": [
    {
     "name": "stdout",
     "output_type": "stream",
     "text": [
      "SELECT task.id AS task_id, task.name AS task_name \n",
      "FROM task \n",
      "WHERE task.name = ?\n",
      "<class 'flask_sqlalchemy.query.Query'>\n",
      "[<Task 5>, <Task 6>]\n"
     ]
    }
   ],
   "source": [
    "query = Task.query.filter_by(name=\"Szukanie\")\n",
    "print(query)\n",
    "print(type(query))\n",
    "result = query.all()\n",
    "print(result)"
   ]
  },
  {
   "cell_type": "markdown",
   "id": "b6e5e198-01c0-4930-a799-2624118b285d",
   "metadata": {},
   "source": [
    "Parametrem funkcji `filter_by` jest kolumna, po której filtrujemy. Możemy filtrować po kilku kolumnach jednocześnie."
   ]
  },
  {
   "cell_type": "code",
   "execution_count": 41,
   "id": "d163fda4-af90-4428-a062-a3141e9a833b",
   "metadata": {},
   "outputs": [
    {
     "name": "stdout",
     "output_type": "stream",
     "text": [
      "SELECT task.id AS task_id, task.name AS task_name \n",
      "FROM task \n",
      "WHERE task.id = ? AND task.name = ?\n",
      "[]\n"
     ]
    }
   ],
   "source": [
    "query = Task.query.filter_by(id=16, name=\"Szukanie\")\n",
    "print(query)\n",
    "result = query.all()\n",
    "print(result)"
   ]
  },
  {
   "cell_type": "markdown",
   "id": "24c58bb2-0d7c-48cf-8d70-3fa3951b90d1",
   "metadata": {},
   "source": [
    "filter_by zwraca listę instancji modelu spełniających kryterium wyszukiwania. Może być pusta."
   ]
  },
  {
   "cell_type": "code",
   "execution_count": 42,
   "id": "39ff4374-518f-4bef-87d8-fe0bccd8c7df",
   "metadata": {},
   "outputs": [
    {
     "name": "stdout",
     "output_type": "stream",
     "text": [
      "SELECT task.id AS task_id, task.name AS task_name \n",
      "FROM task \n",
      "WHERE task.name = ?\n",
      "[]\n"
     ]
    }
   ],
   "source": [
    "query = Task.query.filter_by(name=\"Coś czego nie ma w bazie\")\n",
    "print(query)\n",
    "result = query.all()\n",
    "print(result)"
   ]
  },
  {
   "cell_type": "markdown",
   "id": "e87b6a48-d6ef-4855-b1ba-c37e38364fea",
   "metadata": {},
   "source": [
    "Może być jednoelementowa"
   ]
  },
  {
   "cell_type": "code",
   "execution_count": 43,
   "id": "9ea52399-58e6-4588-8bcb-e714dbe9f36c",
   "metadata": {},
   "outputs": [
    {
     "name": "stdout",
     "output_type": "stream",
     "text": [
      "SELECT task.id AS task_id, task.name AS task_name \n",
      "FROM task \n",
      "WHERE task.name = ?\n",
      "[<Task 9>]\n"
     ]
    }
   ],
   "source": [
    "query = Task.query.filter_by(name=\"Pranie\")\n",
    "print(query)\n",
    "result = query.all()\n",
    "print(result)"
   ]
  },
  {
   "cell_type": "markdown",
   "id": "ecec27ac",
   "metadata": {},
   "source": [
    "#### Metoda II - filter"
   ]
  },
  {
   "cell_type": "markdown",
   "id": "98713263",
   "metadata": {},
   "source": [
    "Metoda ```filter``` Query wykonuje to samo co metoda filter_by (odpowiada klauzuli WHERE). Posiada inne api."
   ]
  },
  {
   "cell_type": "code",
   "execution_count": 44,
   "id": "e0359686",
   "metadata": {},
   "outputs": [
    {
     "name": "stdout",
     "output_type": "stream",
     "text": [
      "SELECT task.id AS task_id, task.name AS task_name \n",
      "FROM task \n",
      "WHERE task.name = ?\n"
     ]
    }
   ],
   "source": [
    "query = Task.query.filter(Task.name==\"Szukanie\")\n",
    "print(query)"
   ]
  },
  {
   "cell_type": "markdown",
   "id": "4e8f9dc7-270a-4407-84ea-42b4195ee45a",
   "metadata": {},
   "source": [
    "Też zwraca obiekt klasy Query."
   ]
  },
  {
   "cell_type": "code",
   "execution_count": 45,
   "id": "3763ed84-a5b7-4b8e-b2c9-d42481c58854",
   "metadata": {},
   "outputs": [
    {
     "name": "stdout",
     "output_type": "stream",
     "text": [
      "<class 'flask_sqlalchemy.query.Query'>\n"
     ]
    }
   ],
   "source": [
    "print(type(query))"
   ]
  },
  {
   "cell_type": "markdown",
   "id": "641ee9cf-f402-495a-b3e4-aefcddfe0369",
   "metadata": {},
   "source": [
    "na którym możemy dalej działać."
   ]
  },
  {
   "cell_type": "code",
   "execution_count": 46,
   "id": "3e083644-2e85-46d2-960a-1a9b24730245",
   "metadata": {},
   "outputs": [
    {
     "name": "stdout",
     "output_type": "stream",
     "text": [
      "[<Task 5>, <Task 6>]\n"
     ]
    }
   ],
   "source": [
    "result = query.all()\n",
    "print(result)"
   ]
  },
  {
   "cell_type": "markdown",
   "id": "5253cd99-bd0d-42f5-855a-cbea9407f28b",
   "metadata": {},
   "source": [
    "ale jako parametr wejściowy przyjmuje całe wyrażenie, dlatego pozwala na formułowaniu bardziej złożonych zapytań. W metodzie filter można używać kilku\n",
    "operatorów, takich jak:"
   ]
  },
  {
   "cell_type": "code",
   "execution_count": 47,
   "id": "3b6d9b1e",
   "metadata": {},
   "outputs": [
    {
     "name": "stdout",
     "output_type": "stream",
     "text": [
      "SELECT task.id, task.name \n",
      "FROM task \n",
      "WHERE task.name = :name_1\n",
      "[<Task 4>]\n"
     ]
    }
   ],
   "source": [
    "# eq\n",
    "query = Task.query.filter(Task.name==\"Malowanie\")\n",
    "print(query.statement)\n",
    "result = query.all()\n",
    "print(result)"
   ]
  },
  {
   "cell_type": "code",
   "execution_count": 48,
   "id": "a7bbc8f9-5092-45c5-9e67-5b81beb403a5",
   "metadata": {},
   "outputs": [
    {
     "name": "stdout",
     "output_type": "stream",
     "text": [
      "SELECT task.id, task.name \n",
      "FROM task \n",
      "WHERE task.name != :name_1\n",
      "[<Task 1>, <Task 2>, <Task 3>, <Task 5>, <Task 6>, <Task 7>, <Task 8>, <Task 9>, <Task 10>]\n"
     ]
    }
   ],
   "source": [
    "# not eq\n",
    "q = Task.query.filter(Task.name!=\"Malowanie\")\n",
    "print(q.statement)\n",
    "result = q.all()\n",
    "print(result)"
   ]
  },
  {
   "cell_type": "code",
   "execution_count": 49,
   "id": "a6b736ea-c806-4b49-903a-b9ccb891585a",
   "metadata": {},
   "outputs": [
    {
     "name": "stdout",
     "output_type": "stream",
     "text": [
      "SELECT task.id, task.name \n",
      "FROM task \n",
      "WHERE task.name LIKE :name_1\n",
      "[<Task 4>, <Task 7>, <Task 8>, <Task 10>]\n"
     ]
    }
   ],
   "source": [
    "# like\n",
    "q = Task.query.filter(Task.name.like(\"%wanie\"))\n",
    "print(q.statement)\n",
    "result = q.all()\n",
    "print(result)"
   ]
  },
  {
   "cell_type": "code",
   "execution_count": 50,
   "id": "76806583-647f-40bd-b35a-b64e9222c51f",
   "metadata": {},
   "outputs": [
    {
     "name": "stdout",
     "output_type": "stream",
     "text": [
      "SELECT task.id, task.name \n",
      "FROM task \n",
      "WHERE task.name IN (__[POSTCOMPILE_name_1])\n",
      "[<Task 4>, <Task 5>, <Task 6>, <Task 8>]\n"
     ]
    }
   ],
   "source": [
    "# in\n",
    "q = Task.query.filter(Task.name.in_([\"Malowanie\", \"Szukanie\", \"Pływanie\"]))\n",
    "print(q.statement)\n",
    "result = q.all()\n",
    "print(result)"
   ]
  },
  {
   "cell_type": "code",
   "execution_count": 51,
   "id": "3ee1cde6-d143-45ad-addc-4927099b3c54",
   "metadata": {},
   "outputs": [
    {
     "name": "stdout",
     "output_type": "stream",
     "text": [
      "SELECT task.id, task.name \n",
      "FROM task \n",
      "WHERE (task.name NOT IN (__[POSTCOMPILE_name_1]))\n",
      "[<Task 1>, <Task 2>, <Task 3>, <Task 7>, <Task 9>, <Task 10>]\n"
     ]
    }
   ],
   "source": [
    "# not in\n",
    "q = Task.query.filter(~Task.name.in_([\"Malowanie\", \"Szukanie\", \"Pływanie\"]))\n",
    "print(q.statement)\n",
    "result = q.all()\n",
    "print(result)"
   ]
  },
  {
   "cell_type": "code",
   "execution_count": 52,
   "id": "4d50cf90-31e6-48ee-8fcd-f08fa2fcda0e",
   "metadata": {},
   "outputs": [
    {
     "name": "stdout",
     "output_type": "stream",
     "text": [
      "SELECT task.id, task.name \n",
      "FROM task \n",
      "WHERE task.id > :id_1\n",
      "[<Task 6>, <Task 7>, <Task 8>, <Task 9>, <Task 10>]\n",
      "SELECT task.id, task.name \n",
      "FROM task \n",
      "WHERE task.id <= :id_1\n",
      "[<Task 1>, <Task 2>, <Task 3>, <Task 4>]\n"
     ]
    }
   ],
   "source": [
    "# gt, lt, gte, lte\n",
    "q = Task.query.filter(Task.id > 5)\n",
    "print(q.statement)\n",
    "result = q.all()\n",
    "print(result)\n",
    "\n",
    "q = Task.query.filter(Task.id <= 4)\n",
    "print(q.statement)\n",
    "result = q.all()\n",
    "print(result)"
   ]
  },
  {
   "cell_type": "code",
   "execution_count": 53,
   "id": "64517ac8-770a-487c-921d-118d02b37a6b",
   "metadata": {},
   "outputs": [
    {
     "name": "stdout",
     "output_type": "stream",
     "text": [
      "SELECT task.id, task.name \n",
      "FROM task \n",
      "WHERE task.name LIKE :name_1 AND task.id >= :id_1\n",
      "[<Task 7>, <Task 8>, <Task 10>]\n"
     ]
    }
   ],
   "source": [
    "# and v1\n",
    "q = Task.query.filter(Task.name.like(\"%wanie\"), Task.id >=6)\n",
    "print(q.statement)\n",
    "result = q.all()\n",
    "print(result)"
   ]
  },
  {
   "cell_type": "code",
   "execution_count": 54,
   "id": "13001a9a-b1d2-4204-a061-45280a267e65",
   "metadata": {},
   "outputs": [
    {
     "name": "stdout",
     "output_type": "stream",
     "text": [
      "SELECT task.id, task.name \n",
      "FROM task \n",
      "WHERE task.name LIKE :name_1 AND task.id >= :id_1\n",
      "[<Task 7>, <Task 8>, <Task 10>]\n"
     ]
    }
   ],
   "source": [
    "# and v2\n",
    "from sqlalchemy import and_\n",
    "\n",
    "q = Task.query.filter(and_(Task.name.like(\"%wanie\"), Task.id >=6))\n",
    "print(q.statement)\n",
    "result = q.all()\n",
    "print(result)"
   ]
  },
  {
   "cell_type": "code",
   "execution_count": 55,
   "id": "00157b1f-ed10-423e-901e-69936afc6cdf",
   "metadata": {},
   "outputs": [
    {
     "name": "stdout",
     "output_type": "stream",
     "text": [
      "SELECT task.id, task.name \n",
      "FROM task \n",
      "WHERE task.name LIKE :name_1 AND task.id >= :id_1\n",
      "[<Task 7>, <Task 8>, <Task 10>]\n"
     ]
    }
   ],
   "source": [
    "# and v3\n",
    "q = Task.query.filter(\n",
    "    (Task.name.like(\"%wanie\")) & (Task.id >= 6)\n",
    ")  # najlepiej warunki zamykać w nawiasach\n",
    "print(q.statement)\n",
    "result = q.all()\n",
    "print(result)"
   ]
  },
  {
   "cell_type": "code",
   "execution_count": 56,
   "id": "bec73ae9-7096-48d0-8912-d9986831aa41",
   "metadata": {},
   "outputs": [
    {
     "name": "stdout",
     "output_type": "stream",
     "text": [
      "SELECT task.id, task.name \n",
      "FROM task \n",
      "WHERE task.name LIKE :name_1 OR task.id >= :id_1\n",
      "[<Task 4>, <Task 6>, <Task 7>, <Task 8>, <Task 9>, <Task 10>]\n"
     ]
    }
   ],
   "source": [
    "# or v1\n",
    "from sqlalchemy import or_\n",
    "\n",
    "q = Task.query.filter(or_(Task.name.like(\"%wanie\"), Task.id >= 6))\n",
    "print(q.statement)\n",
    "result = q.all()\n",
    "print(result)"
   ]
  },
  {
   "cell_type": "code",
   "execution_count": 57,
   "id": "2fdc0adb-8309-4bc8-b5bd-ee218ed816cd",
   "metadata": {},
   "outputs": [
    {
     "name": "stdout",
     "output_type": "stream",
     "text": [
      "SELECT task.id, task.name \n",
      "FROM task \n",
      "WHERE task.name LIKE :name_1 OR task.id >= :id_1\n",
      "[<Task 4>, <Task 6>, <Task 7>, <Task 8>, <Task 9>, <Task 10>]\n"
     ]
    }
   ],
   "source": [
    "# or v2\n",
    "q = Task.query.filter(\n",
    "    (Task.name.like(\"%wanie\")) | (Task.id >= 6)                                 \n",
    ")\n",
    "print(q.statement)\n",
    "result = q.all()\n",
    "print(result)"
   ]
  },
  {
   "cell_type": "markdown",
   "id": "1e992261",
   "metadata": {},
   "source": [
    "#### Metoda III - get"
   ]
  },
  {
   "cell_type": "markdown",
   "id": "c9fccdf5",
   "metadata": {},
   "source": [
    "W odróżnieniu od metody filter, metoda get zwraca instancję jedną instancje modelu. Jako parametr przyjmuje wartość klucza głównego w tabeli."
   ]
  },
  {
   "cell_type": "code",
   "execution_count": 58,
   "id": "46aa42ee",
   "metadata": {},
   "outputs": [
    {
     "name": "stdout",
     "output_type": "stream",
     "text": [
      "<Task 10>\n",
      "<class '__main__.Task'>\n"
     ]
    },
    {
     "name": "stderr",
     "output_type": "stream",
     "text": [
      "C:\\Users\\User\\AppData\\Local\\Temp\\ipykernel_3356\\3265998587.py:1: LegacyAPIWarning: The Query.get() method is considered legacy as of the 1.x series of SQLAlchemy and becomes a legacy construct in 2.0. The method is now available as Session.get() (deprecated since: 2.0) (Background on SQLAlchemy 2.0 at: https://sqlalche.me/e/b8d9)\n",
      "  q = Task.query.get(1)  # get - getting task by primary key\n"
     ]
    }
   ],
   "source": [
    "q = Task.query.get(1)  # get - getting task by primary key\n",
    "print(task)\n",
    "print(type(task))"
   ]
  },
  {
   "cell_type": "markdown",
   "id": "abbd00d1-0efd-4a50-ac55-661c1c5e1014",
   "metadata": {},
   "source": [
    "Przedawnione, od wersji 2.0 twórcy zalecają używanie metody get sesji, a nie modelu."
   ]
  },
  {
   "cell_type": "code",
   "execution_count": 59,
   "id": "bd2451ee-2aba-48c2-8c0a-844744666d86",
   "metadata": {},
   "outputs": [
    {
     "name": "stdout",
     "output_type": "stream",
     "text": [
      "<Task 1>\n"
     ]
    }
   ],
   "source": [
    "q = db.session.get(Task, 1)\n",
    "print(q)"
   ]
  },
  {
   "cell_type": "markdown",
   "id": "7e5f675d",
   "metadata": {},
   "source": [
    "Jeżeli w tabeli nie będzie takiego rekordu metoda get zwraca None."
   ]
  },
  {
   "cell_type": "code",
   "execution_count": 60,
   "id": "7272ef03",
   "metadata": {},
   "outputs": [
    {
     "name": "stdout",
     "output_type": "stream",
     "text": [
      "None\n"
     ]
    }
   ],
   "source": [
    "task = db.session.get(Task, 100)\n",
    "print(task)"
   ]
  },
  {
   "cell_type": "markdown",
   "id": "6efd3315",
   "metadata": {},
   "source": [
    "Podsumowując, metoda get w odróżnieniu od metody filter:\n",
    "* zwraca instancję modelu (a nie obiekty klasy Query)\n",
    "* jeżeli w wyniku filtrowania otrzymamy pustą odpowiedź zwróci None (a nie pustą listę)"
   ]
  },
  {
   "cell_type": "markdown",
   "id": "6a10d456",
   "metadata": {},
   "source": [
    "### Indeksowanie, wycinki (operatory LIMIT i OFFSET)"
   ]
  },
  {
   "cell_type": "markdown",
   "id": "6176728b",
   "metadata": {},
   "source": [
    "Klasa Query wspiera indeksowanie oraz wycinki"
   ]
  },
  {
   "cell_type": "markdown",
   "id": "64a632de",
   "metadata": {},
   "source": [
    "Znajdźmy czwarty wpis w tabeli Task (indeksowanie od 0)."
   ]
  },
  {
   "cell_type": "code",
   "execution_count": 66,
   "id": "17162360",
   "metadata": {},
   "outputs": [
    {
     "name": "stdout",
     "output_type": "stream",
     "text": [
      "<Task 2>\n",
      "<class '__main__.Task'>\n"
     ]
    }
   ],
   "source": [
    "task = Task.query.all()[1]\n",
    "print(task)\n",
    "print(type(task))  # instancja modelu"
   ]
  },
  {
   "cell_type": "markdown",
   "id": "8b79695e",
   "metadata": {},
   "source": [
    "Znajdźmy pięc pierwszych wpisów w tabeli Task."
   ]
  },
  {
   "cell_type": "code",
   "execution_count": 62,
   "id": "ffdbcb8b",
   "metadata": {},
   "outputs": [
    {
     "name": "stdout",
     "output_type": "stream",
     "text": [
      "[<Task 1>, <Task 2>, <Task 3>, <Task 4>, <Task 5>]\n"
     ]
    }
   ],
   "source": [
    "tasks = Task.query.all()[:5]\n",
    "print(tasks)"
   ]
  },
  {
   "cell_type": "markdown",
   "id": "7c820ab7",
   "metadata": {},
   "source": [
    "Znajdźmy wszystkie wpisy w tabeli Task poza pięcioma pierwszymi."
   ]
  },
  {
   "cell_type": "code",
   "execution_count": 63,
   "id": "083c2f61",
   "metadata": {},
   "outputs": [
    {
     "name": "stdout",
     "output_type": "stream",
     "text": [
      "[<Task 6>, <Task 7>, <Task 8>, <Task 9>, <Task 10>]\n"
     ]
    }
   ],
   "source": [
    "tasks = Task.query.all()[5:]\n",
    "print(tasks)"
   ]
  },
  {
   "cell_type": "markdown",
   "id": "afd9b43a",
   "metadata": {},
   "source": [
    "Znajdźmy co drugi wpis z tabeli Task (wycinki)"
   ]
  },
  {
   "cell_type": "code",
   "execution_count": 64,
   "id": "49f7c901",
   "metadata": {},
   "outputs": [
    {
     "name": "stdout",
     "output_type": "stream",
     "text": [
      "[<Task 1>, <Task 3>, <Task 5>, <Task 7>, <Task 9>]\n",
      "<class 'list'>\n"
     ]
    }
   ],
   "source": [
    "tasks = Task.query.all()[::2]\n",
    "print(tasks)\n",
    "print(type(tasks))"
   ]
  }
 ],
 "metadata": {
  "kernelspec": {
   "display_name": "Python 3 (ipykernel)",
   "language": "python",
   "name": "python3"
  },
  "language_info": {
   "codemirror_mode": {
    "name": "ipython",
    "version": 3
   },
   "file_extension": ".py",
   "mimetype": "text/x-python",
   "name": "python",
   "nbconvert_exporter": "python",
   "pygments_lexer": "ipython3",
   "version": "3.11.1"
  }
 },
 "nbformat": 4,
 "nbformat_minor": 5
}
